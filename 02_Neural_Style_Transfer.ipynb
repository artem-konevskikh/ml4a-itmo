{
  "nbformat": 4,
  "nbformat_minor": 0,
  "metadata": {
    "colab": {
      "name": "02-Neural-Style-Transfer.ipynb",
      "provenance": [],
      "collapsed_sections": []
    },
    "kernelspec": {
      "name": "python3",
      "display_name": "Python 3"
    },
    "language_info": {
      "name": "python"
    },
    "accelerator": "GPU"
  },
  "cells": [
    {
      "cell_type": "markdown",
      "source": [
        "# Neural Style Transfer\n",
        "\n",
        "Created by [Artem Konevskikh](https://github.com/artem-konevskikh)\n",
        "\n",
        "Based on [NNST](https://github.com/nkolkin13/NeuralNeighborStyleTransfer)"
      ],
      "metadata": {
        "id": "G-D_4gVz6SQU"
      }
    },
    {
      "cell_type": "code",
      "execution_count": null,
      "metadata": {
        "cellView": "form",
        "id": "jNtKpuig6NCX"
      },
      "outputs": [],
      "source": [
        "#@title Install\n",
        "!git clone https://github.com/nkolkin13/NeuralNeighborStyleTransfer.git\n",
        "%cd NeuralNeighborStyleTransfer\n"
      ]
    },
    {
      "cell_type": "code",
      "source": [
        "#@title Settings\n",
        "#@markdown Content Image\n",
        "content_path = '/content/67405604_145810543191694_7680273986593086999_n.jpg' #@param {type:\"string\"}\n",
        "#@markdown Style Image\n",
        "style_path = '/content/kvadrat.jpg' #@param {type:\"string\"}\n",
        "#@markdown Result Image\n",
        "output_path = '/content/result.jpg' #@param {type:\"string\"}\n",
        "#@markdown Set Alpha. Alpha=1.0 corresponds to maximum content preservation, Alpha=0.0 is maximum stylization\n",
        "alpha = 0.75 #@param {type:\"slider\", min:0, max:1, step:0.05}\n",
        "#@markdown Use color correction\n",
        "colorize = True #@param {type:\"boolean\"}\n",
        "#@markdown Default output is 512x512, with this option you will get 1024x1024 image\n",
        "high_res = True #@param {type:\"boolean\"}\n",
        "#@markdown Augment style image with rotations. Slows down algorithm and increases memory requirement. Generally improves content preservation but hurts stylization slightly\n",
        "augment = False #@param {type:\"boolean\"}\n",
        "\n",
        "\n",
        "options = f'--alpha {alpha}'\n",
        "if not colorize:\n",
        "  options += ' --dont_colorize'\n",
        "if high_res:\n",
        "  options += ' --high_res'\n",
        "if not augment:\n",
        "  options += ' --no_flip'\n",
        "\n"
      ],
      "metadata": {
        "cellView": "form",
        "id": "wBIjoC-08DXK"
      },
      "execution_count": 2,
      "outputs": []
    },
    {
      "cell_type": "code",
      "source": [
        "#@title Transfer style\n",
        "!python styleTransfer.py --content_path {content_path} --style_path {style_path} --output_path {output_path} {options}"
      ],
      "metadata": {
        "cellView": "form",
        "id": "LQnzh43F7KaP"
      },
      "execution_count": null,
      "outputs": []
    }
  ]
}