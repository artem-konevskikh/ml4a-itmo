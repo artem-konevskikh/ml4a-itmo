{
  "nbformat": 4,
  "nbformat_minor": 0,
  "metadata": {
    "colab": {
      "name": "02-deepdream.ipynb",
      "provenance": [],
      "private_outputs": true,
      "collapsed_sections": []
    },
    "kernelspec": {
      "name": "python3",
      "display_name": "Python 3"
    },
    "accelerator": "GPU"
  },
  "cells": [
    {
      "cell_type": "markdown",
      "metadata": {
        "id": "LUYQFBtsL2kE"
      },
      "source": [
        "# Deep Dream\n",
        "\n",
        "Made by [Artem Konevskikh](http://aiculedssul.net/)\n",
        "\n",
        "Based on [gordicaleksa/pytorch-deepdream](https://github.com/gordicaleksa/pytorch-deepdream).\n",
        "\n"
      ]
    },
    {
      "cell_type": "code",
      "metadata": {
        "id": "7vxRe4vrK1Dn",
        "cellView": "form"
      },
      "source": [
        "#@title Install\n",
        "import os\n",
        "%cd /content/\n",
        "!git clone https://github.com/gordicaleksa/pytorch-deepdream\n",
        "%cd pytorch-deepdream"
      ],
      "execution_count": null,
      "outputs": []
    },
    {
      "cell_type": "code",
      "source": [
        "import os\n",
        "#@title Settings\n",
        "#@markdown Input file\n",
        "input_file = '/content/david1.jpeg' #@param  {type:\"string\"}\n",
        "#@markdown Image width. Resize input image to this width\n",
        "img_width = 600 #@param {type:\"integer\"}\n",
        "#@markdown Model\n",
        "model = 'VGG16_EXPERIMENTAL' #@param ['VGG16', 'VGG16_EXPERIMENTAL', 'RESNET50', 'GOOGLENET']\n",
        "#@markdown Layers to use (should be space separated). Available options:<br/>\n",
        "#@markdown * For VGG16: relu1_2, relu2_2, relu3_3, relu4_3 <br/>\n",
        "#@markdown * For VGG16_EXPERIMENTAL: relu3_3, relu4_1, relu4_2, relu4_3, relu5_1, relu5_2, relu5_3 <br/>\n",
        "#@markdown * For RESNET50: layer1, layer2, layer3, layer4<br/>\n",
        "#@markdown * For GOOGLENET: inception3b, inception4c, inception4d, inception4e<br/>\n",
        "layers_to_use = 'relu3_3' #@param  {type:\"string\"}\n",
        "#@markdown Pyramid size\n",
        "pyramid_size = 1.5 #@param {type:\"slider\", min:1, max:10, step:1}\n",
        "#@markdown Pyramid ratio\n",
        "pyramid_size = 1.8 #@param {type:\"slider\", min:1, max:2, step:0.1}\n",
        "#@markdown Create video\n",
        "is_video = True #@param {type:\"boolean\"}\n",
        "#@markdown Video length (FPS)\n",
        "video_length = 20 #@param {type:\"integer\"}\n",
        "#@markdown Video frames transformation\n",
        "frame_transform = 'ZOOM' #@param ['ZOOM', 'ZOOM_ROTATE', 'TRANSLATE']\n",
        "\n",
        "ext = input_file.split('.')[-1]\n",
        "\n",
        "\n",
        "assert len(input_file)>0, 'Provide image or video path'\n",
        "assert os.path.isfile(input_file), 'Input file doesnt exist'\n",
        "assert model in ['VGG16', 'VGG16_EXPERIMENTAL', 'RESNET50', 'GOOGLENET'], 'Define correct model'\n",
        "assert len(layers_to_use)>0, 'Define layers'\n",
        "if ext=='mp4':\n",
        "  options = ''\n",
        "else:\n",
        "  options = '--model_name ' + model + ' --layers_to_use ' + layers_to_use\n",
        "  if is_video:\n",
        "    options+= ' --create_ouroboros --ouroboros_length ' + str(video_length) + ' --frame_transform ' + frame_transform"
      ],
      "metadata": {
        "cellView": "form",
        "id": "d0mRScUM__ED"
      },
      "execution_count": null,
      "outputs": []
    },
    {
      "cell_type": "code",
      "source": [
        "#@title Run Deep Dream\n",
        "#@markdown Result will be in ```/content/pytorch-deepdream/data/```\n",
        "!python deepdream.py --input {input_file} {options}"
      ],
      "metadata": {
        "cellView": "form",
        "id": "Dca0qSWZMm4y"
      },
      "execution_count": null,
      "outputs": []
    }
  ]
}