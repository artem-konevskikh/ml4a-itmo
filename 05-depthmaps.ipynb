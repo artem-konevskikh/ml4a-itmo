{
  "nbformat": 4,
  "nbformat_minor": 0,
  "metadata": {
    "colab": {
      "provenance": []
    },
    "kernelspec": {
      "name": "python3",
      "display_name": "Python 3"
    },
    "language_info": {
      "name": "python"
    },
    "accelerator": "GPU"
  },
  "cells": [
    {
      "cell_type": "markdown",
      "metadata": {
        "id": "6-H60NTcbJNw"
      },
      "source": [
        "# Monocular Depth Estimation\n",
        "\n",
        "Based on https://github.com/compphoto/BoostingMonocularDepth\n",
        "\n",
        "Made by [Artem Konevskikh](https://aiculedssul.net/)"
      ]
    },
    {
      "cell_type": "code",
      "metadata": {
        "id": "-SaAhFxPbCyK",
        "cellView": "form"
      },
      "source": [
        "#@title Install\n",
        "#@markdown This cell will download all the needed files\n",
        "# Clone git repo\n",
        "!git clone https://github.com/compphoto/BoostingMonocularDepth.git\n",
        "\n",
        "!wget https://sfu.ca/~yagiz/CVPR21/latest_net_G.pth\n",
        "# !gdown https://drive.google.com/u/0/uc?id=1cU2y-kMbt0Sf00Ns4CN2oO9qPJ8BensP&export=download\n",
        "\n",
        "# Downloading merge model weights\n",
        "!mkdir -p /content/BoostingMonocularDepth/pix2pix/checkpoints/mergemodel/\n",
        "!mv latest_net_G.pth /content/BoostingMonocularDepth/pix2pix/checkpoints/mergemodel/\n",
        "\n",
        "# Downloading Midas weights\n",
        "!wget https://github.com/AlexeyAB/MiDaS/releases/download/midas_dpt/midas_v21-f6b98070.pt\n",
        "!mv midas_v21-f6b98070.pt /content/BoostingMonocularDepth/midas/model.pt\n",
        "\n",
        "# # Downloading LeRes weights\n",
        "!wget https://cloudstor.aarnet.edu.au/plus/s/lTIJF4vrvHCAI31/download\n",
        "!mv download /content/BoostingMonocularDepth/res101.pth\n",
        "\n",
        "# Create folders\n",
        "!mkdir /content/images /content/depthmaps /content/results"
      ],
      "execution_count": null,
      "outputs": []
    },
    {
      "cell_type": "code",
      "source": [
        "#@title Load libraries and functions\n",
        "import glob\n",
        "import shlex\n",
        "import os\n",
        "import struct\n",
        "import numpy as np\n",
        "import cv2\n",
        "from tqdm.notebook import tqdm\n",
        "\n",
        "def pointcloud(img, depth, extrude=1):\n",
        "    w, h = depth.shape\n",
        "    \n",
        "    depth = extrude*depth/255\n",
        "\n",
        "    pixel_x, pixel_y = np.meshgrid(np.linspace(0, h - 1, h),np.linspace(0, w - 1, w))\n",
        "    camera_points = np.zeros((np.size(pixel_x), 3))\n",
        "    camera_points[:, 0] = np.reshape(pixel_x, -1)\n",
        "    camera_points[:, 1] = np.reshape(pixel_y, -1)\n",
        "    camera_points[:, 2] = np.reshape(depth, -1)\n",
        "\n",
        "    color_points = img.reshape(-1, 3)\n",
        "\n",
        "    valid_depth_ind = np.where(depth.flatten() > 0)[0]\n",
        "    camera_points = camera_points[valid_depth_ind, :]\n",
        "    color_points = color_points[valid_depth_ind, :]\n",
        "    color_points = color_points.astype(int)\n",
        "\n",
        "    return camera_points, color_points\n",
        "\n",
        "\n",
        "def write_pointcloud(filename, xyz_points, rgb_points=None):\n",
        "    \"\"\" creates a .ply file of the generated point clouds \n",
        "    \"\"\"\n",
        "\n",
        "    assert xyz_points.shape[1] == 3, 'Input XYZ points should be Nx3 float array'\n",
        "    if rgb_points is None:\n",
        "        rgb_points = np.ones(xyz_points.shape).astype(np.uint8) * 255\n",
        "    assert xyz_points.shape == rgb_points.shape, 'Input RGB colors should be Nx3 float array and have same size as input XYZ points'\n",
        "\n",
        "    # Write header of .ply file\n",
        "    with open(filename, 'wb') as fid:\n",
        "        fid.write(bytes('ply\\n', 'utf-8'))\n",
        "        fid.write(bytes('format binary_little_endian 1.0\\n', 'utf-8'))\n",
        "        fid.write(bytes(f'element vertex {xyz_points.shape[0]}\\n', 'utf-8'))\n",
        "        fid.write(bytes('property float x\\n', 'utf-8'))\n",
        "        fid.write(bytes('property float y\\n', 'utf-8'))\n",
        "        fid.write(bytes('property float z\\n', 'utf-8'))\n",
        "        fid.write(bytes('property uchar red\\n', 'utf-8'))\n",
        "        fid.write(bytes('property uchar green\\n', 'utf-8'))\n",
        "        fid.write(bytes('property uchar blue\\n', 'utf-8'))\n",
        "        fid.write(bytes('end_header\\n', 'utf-8'))\n",
        "\n",
        "        # Write 3D points to .ply file\n",
        "        for i in range(xyz_points.shape[0]):\n",
        "            fid.write(bytearray(struct.pack(\"fffBBB\", xyz_points[i, 0], xyz_points[i, 1], xyz_points[i, 2],\n",
        "                                            rgb_points[i, 0], rgb_points[i, 1],\n",
        "                                            rgb_points[i, 2])))"
      ],
      "metadata": {
        "cellView": "form",
        "id": "io8DUE7kq-AX"
      },
      "execution_count": 11,
      "outputs": []
    },
    {
      "cell_type": "code",
      "metadata": {
        "id": "jz0YOgd5cO43",
        "cellView": "form"
      },
      "source": [
        "%cd BoostingMonocularDepth\n",
        "\n",
        "#@title Create Depth Maps\n",
        "#@markdown Input images\n",
        "input_dir = '/content/images' #@param {type:\"string\"}\n",
        "#@markdown Output directory\n",
        "output_dir = '/content/depthmaps' #@param {type:\"string\"}\n",
        "#@markdown Select the network model to reconstruct depth map. `LeRes` gives beter resolution, while `MiDas` works faster\n",
        "depth_net = \"LeRes\" #@param [\"LeRes\",\"MiDas\"]\n",
        "\n",
        "model = 2 if depth_net == \"LeRes\" else 0\n",
        "\n",
        "input_dir = shlex.quote(input_dir)\n",
        "output_dir = shlex.quote(output_dir)\n",
        "if not os.path.isdir(output_dir):\n",
        "  !mkdir $output_dir \n",
        "\n",
        "!python run.py --Final --data_dir $input_dir --output_dir $output_dir --depthNet $model\n",
        "\n",
        "\n"
      ],
      "execution_count": null,
      "outputs": []
    },
    {
      "cell_type": "code",
      "source": [
        "#@title Depth Maps to Point Clouds\n",
        "#@markdown Images folder\n",
        "input_dir = '/content/images' #@param {type:\"string\"}\n",
        "#@markdown Depth Maps folder\n",
        "depthmap_dir = '/content/depthmaps/' #@param {type:\"string\"}\n",
        "#@markdown Output Point Clouds directory\n",
        "output_dir = '/content/results/' #@param {type:\"string\"}\n",
        "#@markdown Extrusion coefficient\n",
        "extrude=300 #@param {type:\"number\"}\n",
        "#@markdown Invert texture\n",
        "invert=False #@param {type: \"boolean\"}\n",
        "\n",
        "output_dir = shlex.quote(output_dir)\n",
        "if not os.path.isdir(output_dir):\n",
        "  !mkdir $output_dir \n",
        "\n",
        "for f in glob.glob(f'{input_dir}/*.*'):\n",
        "  print(f)\n",
        "  model_name = f.split('/')[-1].split('.')[0]\n",
        "  texture_name = f.split('/')[-1]\n",
        "  model = f'{output_dir}/{model_name}.ply'\n",
        "  depth_map = f'{depthmap_dir}/{model_name}.png'\n",
        "\n",
        "  image = cv2.imread(f, 1)\n",
        "  depthmap = cv2.imread(depth_map, 1)\n",
        "  depthmap = np.dot(depthmap[...,:3], [0.299, 0.587, 0.114])\n",
        "  camera_points, color_points = pointcloud(image, depthmap, extrude=extrude)\n",
        "  if invert:\n",
        "    color_points = 255 - color_points\n",
        "  write_pointcloud(model, camera_points, color_points)\n"
      ],
      "metadata": {
        "cellView": "form",
        "id": "rCLdWMKofBXK"
      },
      "execution_count": null,
      "outputs": []
    }
  ]
}