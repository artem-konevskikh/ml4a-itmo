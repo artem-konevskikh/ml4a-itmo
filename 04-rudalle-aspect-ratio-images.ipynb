{
  "nbformat": 4,
  "nbformat_minor": 0,
  "metadata": {
    "colab": {
      "name": "04-rudalle-aspect-ratio-images.ipynb",
      "provenance": [],
      "collapsed_sections": []
    },
    "kernelspec": {
      "name": "python3",
      "display_name": "Python 3"
    },
    "language_info": {
      "name": "python"
    },
    "accelerator": "GPU"
  },
  "cells": [
    {
      "cell_type": "markdown",
      "source": [
        "# ruDALLE aspect ratio images\n",
        "\n",
        "Made by [Artem Konevskikh](https://aiculedssul.net/)\n",
        "\n",
        "Based on [GitHub repo](https://github.com/shonenkov-AI/rudalle-aspect-ratio) by [Alex Shonenkov](https://www.kaggle.com/shonenkov)"
      ],
      "metadata": {
        "id": "z5h8waM_2eGU"
      }
    },
    {
      "cell_type": "code",
      "execution_count": null,
      "metadata": {
        "cellView": "form",
        "id": "-wf9ivke1jnc"
      },
      "outputs": [],
      "source": [
        "#@title GPU Check\n",
        "#@markdown You can check which GPU you got. V100 is perfect, P100 and T4 is good, but if you got K80 its better to restart the notebook by selecting **Disconnect and delete runtime** in **Runtime** menu, because it is very slow\n",
        "!nvidia-smi -L\n"
      ]
    },
    {
      "cell_type": "code",
      "source": [
        "#@title Mount Google Drive\n",
        "#@markdown Mount Google Drive if you want to save the results there.\n",
        "\n",
        "from google.colab import drive\n",
        "drive.mount('/content/drive')"
      ],
      "metadata": {
        "cellView": "form",
        "id": "JPwul5GI4RO4"
      },
      "execution_count": null,
      "outputs": []
    },
    {
      "cell_type": "code",
      "source": [
        "#@title Install\n",
        "!pip install rudalle==1.0.0 > /dev/null\n",
        "!git clone https://github.com/shonenkov-AI/rudalle-aspect-ratio.git\n"
      ],
      "metadata": {
        "cellView": "form",
        "id": "ELpDcL1W4egV"
      },
      "execution_count": null,
      "outputs": []
    },
    {
      "cell_type": "code",
      "source": [
        "#@title Prepare all models & utils\n",
        "import sys\n",
        "sys.path.insert(0, './rudalle-aspect-ratio')\n",
        "from rudalle_aspect_ratio import RuDalleAspectRatio, get_rudalle_model\n",
        "from rudalle import get_vae, get_tokenizer\n",
        "from rudalle.pipelines import show\n",
        "\n",
        "device = 'cuda'\n",
        "dalle = get_rudalle_model('Surrealist_XL', fp16=True, device=device)\n",
        "vae, tokenizer = get_vae().to(device), get_tokenizer()"
      ],
      "metadata": {
        "cellView": "form",
        "id": "muwn-HzY4wcP"
      },
      "execution_count": null,
      "outputs": []
    },
    {
      "cell_type": "code",
      "source": [
        "#@title Generate\n",
        "text = \"\\u043E\\u0433\\u0440\\u043E\\u043C\\u043D\\u044B\\u0439 \\u0447\\u0435\\u0440\\u043D\\u044B\\u0439 \\u043A\\u043E\\u0442 \\u0432 \\u0436\\u0435\\u043B\\u0442\\u043E\\u043C \\u0434\\u043E\\u0436\\u0434\\u0435\\u0432\\u0438\\u043A\\u0435 \\u0433\\u0443\\u043B\\u044F\\u0435\\u0442 \\u043F\\u043E \\u043B\\u0435\\u0441\\u0443\" #@param {type:\"string\"}\n",
        "aspect_ratio = \"9:16\" #@param {type: \"string\"}\n",
        "images_num = 4 #@param {type: \"integer\"}\n",
        "top_k = 512 #@param {type:\"slider\", min:128, max:4096, step:128}\n",
        "top_p = 0.975 #@param {type:\"slider\", min:0.5, max:1, step:0.005}\n",
        "seed = 777 #@param {type: \"integer\"}\n",
        "result_dir = \"/content/\" #@param {type: \"string\"}\n",
        "\n",
        "a, b = aspect_ratio.split(\":\")\n",
        "aspect_ratio = int(a)/int(b)\n",
        "rudalle_ar = RuDalleAspectRatio(\n",
        "    dalle=dalle, vae=vae, tokenizer=tokenizer,\n",
        "    aspect_ratio=aspect_ratio, bs=4, device=device\n",
        ")\n",
        "_, result_pil_images = rudalle_ar.generate_images(text, top_k, top_p, images_num, seed=seed)\n",
        "show(result_pil_images, 1 if aspect_ratio > 1 else 4, 14, result_dir)"
      ],
      "metadata": {
        "cellView": "form",
        "id": "ShwGMdab6q8D"
      },
      "execution_count": null,
      "outputs": []
    }
  ]
}