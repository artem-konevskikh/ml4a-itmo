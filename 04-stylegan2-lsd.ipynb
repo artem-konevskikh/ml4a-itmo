{
  "nbformat": 4,
  "nbformat_minor": 0,
  "metadata": {
    "colab": {
      "name": "04-stylegan2-lsd.ipynb",
      "provenance": [],
      "collapsed_sections": []
    },
    "kernelspec": {
      "name": "python3",
      "display_name": "Python 3"
    },
    "language_info": {
      "name": "python"
    },
    "accelerator": "GPU"
  },
  "cells": [
    {
      "cell_type": "markdown",
      "source": [
        "# StyleGAN2 and Lucid Sonic Dreams \n",
        "Audioreactive videos with StyleGAN2\n",
        "\n",
        "Made by [Artem Konevskikh](https://aiculedssul.net/)\n",
        "\n",
        "Based on the \n",
        "[Lucid Sonic Dreams](https://github.com/mikaelalafriz/lucid-sonic-dreams),\n",
        "[Lucid Sonic Dreams - Pytorch](https://github.com/NotNANtoN/lucid-sonic-dreams)\n",
        "and [Lucid Sonic Dreams by dvschultz](https://github.com/dvschultz/lucid-sonic-dreams),"
      ],
      "metadata": {
        "id": "Cymd5gBQ5PUx"
      }
    },
    {
      "cell_type": "code",
      "source": [
        "#@title GPU Check\n",
        "#@markdown You can check which GPU you got. V100 is perfect, P100 and T4 is good, but if you got K80 its better to restart the notebook by selecting **Disconnect and delete runtime** in **Runtime** menu, because it is very slow\n",
        "!nvidia-smi -L\n"
      ],
      "metadata": {
        "cellView": "form",
        "id": "wB8I2Cw3kI84"
      },
      "execution_count": null,
      "outputs": []
    },
    {
      "cell_type": "code",
      "source": [
        "#@title Mount Google Drive\n",
        "#@markdown Mount Google Drive if you want to save the results there.\n",
        "\n",
        "from google.colab import drive\n",
        "drive.mount('/content/drive')"
      ],
      "metadata": {
        "cellView": "form",
        "id": "xM85hUWPkKBi"
      },
      "execution_count": null,
      "outputs": []
    },
    {
      "cell_type": "code",
      "source": [
        "#@title Install Lucid Sonid Dreams\n",
        "from IPython.display import clear_output\n",
        "%cd /content/\n",
        "!git clone https://github.com/dvschultz/lucid-sonic-dreams\n",
        "!pip install pygit2 mega.py ninja\n",
        "%cd /content/lucid-sonic-dreams\n",
        "clear_output()\n",
        "from lucidsonicdreams import LucidSonicDream"
      ],
      "metadata": {
        "id": "AcDbF9f8-ZDB",
        "cellView": "form"
      },
      "execution_count": null,
      "outputs": []
    },
    {
      "cell_type": "code",
      "source": [
        "#@title Generate music video\n",
        "#@markdown Music\n",
        "music = '/content/rapchik.mp3' #@param {type:\"string\"}\n",
        "\n",
        "#@markdown Pretrained model. \n",
        "model = '/content/drive/MyDrive/stylegan2ada/ffhq512.pkl' #@param {type:\"string\"}\n",
        "#@markdown Output filename. Don't forget to rename next time you run this cell\n",
        "final_video_name = '/content/LSD_animation_test.mp4' #@param {type:\"string\"}\n",
        "\n",
        "#@markdown Starting timestamp in seconds.\n",
        "start = 0 #@param {type:\"integer\"}\n",
        "#@markdown Video duration in seconds. If none is passed, full duration of audio will be used.\n",
        "duration = 0 #@param {type:\"integer\"}\n",
        "duration = None if duration==0 else duration\n",
        "#@markdown Self-explanatory. Low resolutions are recommended for \"trial\" renders. If 0 is passed, unaltered high-resolution images will be used.\n",
        "resolution = 800 #@param {type:\"integer\"}\n",
        "resolution = None if resolution==0 else resolution\n",
        "#@markdown FPM stands for \"Frames per Minute\". This determines how many images are initialized - the more there are, the faster the visuals morph. If `speed_fpm = 0`, then only one image is initialized, and that single image reacts to the audio. In this case, there will be no motion during silent parts of the audio.\n",
        "speed_fpm = 12 #@param {type:\"integer\"}\n",
        "#@markdown Video Frames Per Second.\n",
        "fps = 30 #@param {type:\"integer\"}\n",
        "#@markdown The \"strength\" of the motion. It is recommended to keep this between 0 and 2.\n",
        "motion_react = 0.8 #@param {type: \"slider\", min: 0.0, max: 2.0, step: 0.05}\n",
        "#@markdown Degree of randomness of motion. Higher values will typically prevent the video from cycling through the same visuals repeatedly. Must range from 0 to 1.\n",
        "motion_randomness = 0.5 #@param {type: \"slider\", min: 0.0, max: 1.0, step: 0.05}\n",
        "#@markdown The \"strength\" of the pulse. It is recommended to keep this between 0 and 2.\n",
        "pulse_react = 1 #@param {type: \"slider\", min: 0.0, max: 2.0, step: 0.05}\n",
        "#@markdown Random seed\n",
        "random_seed=1651 #@param {type:\"slider\", min:0, max:9999, step:1}\n",
        "\n",
        "#@markdown You can read detailed description of the other parameters in the [original colab](https://colab.research.google.com/drive/1Y5i50xSFIuN3V4Md8TB30_GOAtts7RQD#scrollTo=GuLiMg9CUXvG)\n",
        "\n",
        "L = LucidSonicDream(song = music, #mp3 here\n",
        "                    style = model) #pkl path here\n",
        "\n",
        "L.hallucinate(file_name = final_video_name,\n",
        "              start = start,\n",
        "              duration = duration,\n",
        "              resolution = resolution,  \n",
        "              speed_fpm = speed_fpm,\n",
        "              fps = fps,\n",
        "              motion_react = motion_react,\n",
        "              motion_randomness = motion_randomness,\n",
        "              pulse_react = pulse_react,\n",
        "              random_seed = random_seed,\n",
        "              ) "
      ],
      "metadata": {
        "id": "5c6NK18VAc5x",
        "cellView": "form"
      },
      "execution_count": null,
      "outputs": []
    }
  ]
}