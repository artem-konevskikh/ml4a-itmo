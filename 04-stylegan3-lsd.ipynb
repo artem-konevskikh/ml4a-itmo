{
  "nbformat": 4,
  "nbformat_minor": 0,
  "metadata": {
    "colab": {
      "name": "04-stylegan3-lsd.ipynb",
      "provenance": [],
      "collapsed_sections": []
    },
    "kernelspec": {
      "name": "python3",
      "display_name": "Python 3"
    },
    "language_info": {
      "name": "python"
    },
    "accelerator": "GPU"
  },
  "cells": [
    {
      "cell_type": "markdown",
      "source": [
        "# StyleGAN3 and Lucid Sonic Dreams \n",
        "Audioreactive videos with StyleGAN3\n",
        "\n",
        "Made by [Artem Konevskikh](https://aiculedssul.net/)\n",
        "\n",
        "Based on the \n",
        "[StyleGAN3](https://github.com/NVlabs/stylegan3),\n",
        "[Lucid Sonic Dreams](https://github.com/mikaelalafriz/lucid-sonic-dreams),\n",
        "[Lucid Sonic Dreams - Pytorch](https://github.com/NotNANtoN/lucid-sonic-dreams),\n",
        "[Lucid Sonic Dreams by dvschultz](https://github.com/dvschultz/lucid-sonic-dreams)\n",
        "and the notebook by [тоже моушн](https://t.me/too_motion)"
      ],
      "metadata": {
        "id": "Cymd5gBQ5PUx"
      }
    },
    {
      "cell_type": "code",
      "source": [
        "#@title GPU Check\n",
        "#@markdown You can check which GPU you got. V100 is perfect, P100 and T4 is good, but if you got K80 its better to restart the notebook by selecting **Disconnect and delete runtime** in **Runtime** menu, because it is very slow\n",
        "!nvidia-smi -L\n"
      ],
      "metadata": {
        "cellView": "form",
        "id": "wB8I2Cw3kI84"
      },
      "execution_count": null,
      "outputs": []
    },
    {
      "cell_type": "code",
      "source": [
        "#@title Mount Google Drive\n",
        "#@markdown Mount Google Drive if you want to save the results there.\n",
        "\n",
        "from google.colab import drive\n",
        "drive.mount('/content/drive')"
      ],
      "metadata": {
        "cellView": "form",
        "id": "xM85hUWPkKBi"
      },
      "execution_count": null,
      "outputs": []
    },
    {
      "cell_type": "code",
      "source": [
        "#@title Install Lucid Sonid Dreams and StyleGAN3\n",
        "from IPython.display import clear_output\n",
        "%cd /content/\n",
        "!git clone https://github.com/dvschultz/lucid-sonic-dreams\n",
        "!pip install pygit2 mega.py ninja\n",
        "%cd /content/lucid-sonic-dreams\n",
        "!git clone https://github.com/NVlabs/stylegan3.git\n",
        "!mv /content/lucid-sonic-dreams/stylegan3 /content/lucid-sonic-dreams/stylegan2\n",
        "clear_output()\n",
        "from lucidsonicdreams import LucidSonicDream"
      ],
      "metadata": {
        "id": "AcDbF9f8-ZDB",
        "cellView": "form"
      },
      "execution_count": null,
      "outputs": []
    },
    {
      "cell_type": "code",
      "source": [
        "#@title Download pretrained models\n",
        "#@markdown Downloaded modeel will be saved in `/content/lucid-sonic-dreams` folder\n",
        "from IPython.display import clear_output\n",
        "\n",
        "model_to_download = \"snowflakes\" #@param [\"snowflakes\", \"wikiart-t\", \"animals-t\", \"animals-r\", \"faces-t\", \"faces-r\",\"artistic_faces-t\",\"artistic_faces-r\",\"cats\",\"dogs\",\"wild\",\"minerals\",\"acid_fluid\",\"earth_view\"]\n",
        "if model_to_download == \"wikiart-t\":\n",
        "  !gdown --id 18MOpwTMJsl_Z17q-wQVnaRLCUFZYSNkj # wikiart\n",
        "elif model_to_download == \"snowflakes\":\n",
        "  !gdown --id 12VK87A3AXsVksdwcsJBUOETyUyCdP0nX # snowflakes\n",
        "elif model_to_download == \"animals-t\":\n",
        "  !wget https://api.ngc.nvidia.com/v2/models/nvidia/research/stylegan3/versions/1/files/stylegan3-t-afhqv2-512x512.pkl # animals-t\n",
        "elif model_to_download == \"animals-r\":\n",
        "  !wget https://api.ngc.nvidia.com/v2/models/nvidia/research/stylegan3/versions/1/files/stylegan3-r-afhqv2-512x512.pkl # animals-r\n",
        "elif model_to_download == \"faces-t\":\n",
        "  !wget https://api.ngc.nvidia.com/v2/models/nvidia/research/stylegan3/versions/1/files/stylegan3-t-ffhq-1024x1024.pkl # faces-t\n",
        "elif model_to_download == \"faces-r\":\n",
        "  !wget https://api.ngc.nvidia.com/v2/models/nvidia/research/stylegan3/versions/1/files/stylegan3-r-ffhq-1024x1024.pkl # faces-r\n",
        "elif model_to_download == \"artistic_faces-t\":\n",
        "  !wget https://api.ngc.nvidia.com/v2/models/nvidia/research/stylegan3/versions/1/files/stylegan3-t-metfaces-1024x1024.pkl # artistic faces-t\n",
        "elif model_to_download == \"artistic_faces-r\":\n",
        "  !wget https://api.ngc.nvidia.com/v2/models/nvidia/research/stylegan3/versions/1/files/stylegan3-r-metfaces-1024x1024.pkl # artistic faces-r\n",
        "#elif model_to_download == \"cosplay_faces\":\n",
        "#  !wget https://l4rz.net/cosplayface-snapshot-004000-18160-FID367.pkl # cosplay_faces\n",
        "elif model_to_download == \"cats\":\n",
        "  !wget https://api.ngc.nvidia.com/v2/models/nvidia/research/stylegan2/versions/1/files/stylegan2-afhqcat-512x512.pkl # cats\n",
        "elif model_to_download == \"dogs\":\n",
        "  !wget https://api.ngc.nvidia.com/v2/models/nvidia/research/stylegan2/versions/1/files/stylegan2-afhqdog-512x512.pkl # dogs\n",
        "elif model_to_download == \"wild\":\n",
        "  !wget https://api.ngc.nvidia.com/v2/models/nvidia/research/stylegan2/versions/1/files/stylegan2-afhqwild-512x512.pkl # wild\n",
        "elif model_to_download == \"minerals\":\n",
        "  !gdown --id 1YKkozuo2Ik_SGMwh-mFH0I9ZzCN2_gTn # minerals\n",
        "elif model_to_download == \"acid_fluid\":\n",
        "  !gdown --id 10IPazsui4eBPAiLi1p8iMSqL9h0hcqH0 # acid fluid\n",
        "elif model_to_download == \"earth_view\":\n",
        "  !gdown --id 15ypXiZatt2zYvA805vKoMbjH-iU-2IFD # earth view\n",
        "\n",
        "clear_output()"
      ],
      "metadata": {
        "cellView": "form",
        "id": "cbSmNRCQUTrO"
      },
      "execution_count": null,
      "outputs": []
    },
    {
      "cell_type": "code",
      "source": [
        "#@title Generate music video\n",
        "#@markdown Music\n",
        "music = '/content/music.mp3' #@param {type:\"string\"}\n",
        "\n",
        "#@markdown Pretrained model. Either yours or the one you downloaded in previous cell\n",
        "model = '/content/lucid-sonic-dreams/snowflakes1024.pkl' #@param {type:\"string\"}\n",
        "#@markdown Output filename. Don't forget to rename next time you run this cell\n",
        "final_video_name = '/content/LSD_animation_test.mp4' #@param {type:\"string\"}\n",
        "\n",
        "#@markdown Starting timestamp in seconds.\n",
        "start = 0 #@param {type:\"integer\"}\n",
        "#@markdown Video duration in seconds. If none is passed, full duration of audio will be used.\n",
        "duration = 0 #@param {type:\"integer\"}\n",
        "duration = None if duration==0 else duration\n",
        "#@markdown Self-explanatory. Low resolutions are recommended for \"trial\" renders. If 0 is passed, unaltered high-resolution images will be used.\n",
        "resolution = 800 #@param {type:\"integer\"}\n",
        "resolution = None if resolution==0 else resolution\n",
        "#@markdown FPM stands for \"Frames per Minute\". This determines how many images are initialized - the more there are, the faster the visuals morph. If `speed_fpm = 0`, then only one image is initialized, and that single image reacts to the audio. In this case, there will be no motion during silent parts of the audio.\n",
        "speed_fpm = 12 #@param {type:\"integer\"}\n",
        "#@markdown Video Frames Per Second.\n",
        "fps = 30 #@param {type:\"integer\"}\n",
        "#@markdown The \"strength\" of the motion. It is recommended to keep this between 0 and 2.\n",
        "motion_react = 0.8 #@param {type: \"slider\", min: 0.0, max: 2.0, step: 0.05}\n",
        "#@markdown Degree of randomness of motion. Higher values will typically prevent the video from cycling through the same visuals repeatedly. Must range from 0 to 1.\n",
        "motion_randomness = 0.5 #@param {type: \"slider\", min: 0.0, max: 1.0, step: 0.05}\n",
        "#@markdown The \"strength\" of the pulse. It is recommended to keep this between 0 and 2.\n",
        "pulse_react = 1 #@param {type: \"slider\", min: 0.0, max: 2.0, step: 0.05}\n",
        "#@markdown Random seed\n",
        "random_seed=1651 #@param {type:\"slider\", min:0, max:9999, step:1}\n",
        "\n",
        "#@markdown You can read detailed description of the other parameters in the [original colab](https://colab.research.google.com/drive/1Y5i50xSFIuN3V4Md8TB30_GOAtts7RQD#scrollTo=GuLiMg9CUXvG)\n",
        "\n",
        "L = LucidSonicDream(song = music, #mp3 here\n",
        "                    style = model) #pkl path here\n",
        "\n",
        "L.hallucinate(file_name = final_video_name,\n",
        "              start = start,\n",
        "              duration = duration,\n",
        "              resolution = resolution,  \n",
        "              speed_fpm = speed_fpm,\n",
        "              fps = fps,\n",
        "              motion_react = motion_react,\n",
        "              motion_randomness = motion_randomness,\n",
        "              pulse_react = pulse_react,\n",
        "              random_seed = random_seed,\n",
        "              ) "
      ],
      "metadata": {
        "id": "5c6NK18VAc5x",
        "cellView": "form"
      },
      "execution_count": null,
      "outputs": []
    }
  ]
}