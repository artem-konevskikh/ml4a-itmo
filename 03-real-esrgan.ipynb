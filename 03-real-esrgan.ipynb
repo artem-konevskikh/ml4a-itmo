{
  "nbformat": 4,
  "nbformat_minor": 0,
  "metadata": {
    "colab": {
      "name": "03-real-esrgan.ipynb",
      "provenance": [],
      "collapsed_sections": []
    },
    "kernelspec": {
      "name": "python3",
      "display_name": "Python 3"
    },
    "language_info": {
      "name": "python"
    },
    "accelerator": "GPU"
  },
  "cells": [
    {
      "cell_type": "markdown",
      "source": [
        "# Real ESRGAN\n",
        "\n",
        "Made by [Artem Konevskikh](https://aiculedssul.net/)\n",
        "\n",
        "Super resolution notebook based on [Real-ESRGAN repository](https://github.com/xinntao/Real-ESRGAN)"
      ],
      "metadata": {
        "id": "6vsZbmXeYVUq"
      }
    },
    {
      "cell_type": "code",
      "execution_count": null,
      "metadata": {
        "cellView": "form",
        "id": "ktfGAJkJYP4h"
      },
      "outputs": [],
      "source": [
        "#@title Install\n",
        "# Clone Real-ESRGAN and enter the Real-ESRGAN\n",
        "!git clone https://github.com/xinntao/Real-ESRGAN.git\n",
        "%cd Real-ESRGAN\n",
        "# Set up the environment\n",
        "!pip install basicsr\n",
        "!pip install facexlib\n",
        "!pip install gfpgan\n",
        "!pip install ffmpeg-python\n",
        "!pip install -r requirements.txt\n",
        "!python setup.py develop\n",
        "# Download the pre-trained model\n",
        "!wget https://github.com/xinntao/Real-ESRGAN/releases/download/v0.1.0/RealESRGAN_x4plus.pth -P experiments/pretrained_models"
      ]
    },
    {
      "cell_type": "code",
      "source": [
        "#@title Mount Google Drive\n",
        "\n",
        "from google.colab import drive\n",
        "drive.mount('/content/drive')"
      ],
      "metadata": {
        "cellView": "form",
        "id": "aNeYjquPbsvr",
        "colab": {
          "base_uri": "https://localhost:8080/"
        },
        "outputId": "c8247df1-5b3e-46e7-9439-dea7ce92e3ea"
      },
      "execution_count": null,
      "outputs": [
        {
          "output_type": "stream",
          "name": "stdout",
          "text": [
            "Mounted at /content/drive\n"
          ]
        }
      ]
    },
    {
      "cell_type": "code",
      "source": [
        "#@title Run with image folder\n",
        "#@markdown Input images\n",
        "input_folder = '/content/drive/MyDrive/uibk/maps/interpolated_frames' #@param {type: \"string\"}\n",
        "#@markdown Output folder\n",
        "output_folder = '/content/drive/MyDrive/uibk/maps/results' #@param {type: \"string\"}\n",
        "#@markdown Scale\n",
        "scale = 2 #@param {type:\"slider\", min:1, max:4, step:0.5}\n",
        "#@markdown Enhance faces?\n",
        "face_enhance = False #@param {type:\"boolean\"}\n",
        "\n",
        "if face_enhance:\n",
        "  !python inference_realesrgan.py -n RealESRGAN_x4plus -i {input_folder} -o {output_folder} --outscale {scale} --face_enhance\n",
        "else:\n",
        "  !python inference_realesrgan.py -n RealESRGAN_x4plus -i {input_folder} -o {output_folder} --outscale {scale}"
      ],
      "metadata": {
        "cellView": "form",
        "id": "86MOhJigb7Hj"
      },
      "execution_count": null,
      "outputs": []
    },
    {
      "cell_type": "code",
      "source": [
        "#@title Run with videos\n",
        "#@markdown Input images\n",
        "input_video = '/content/mov.mp4' #@param {type: \"string\"}\n",
        "#@markdown Scale\n",
        "scale = 4 #@param {type:\"slider\", min:1, max:4, step:0.5}\n",
        "#@markdown Enhance faces?\n",
        "face_enhance = False #@param {type:\"boolean\"}\n",
        "\n",
        "if face_enhance:\n",
        "  !python inference_realesrgan_video.py -n RealESRGAN_x4plus -i {input_folder} --outscale {scale} --face_enhance\n",
        "else:\n",
        "  !python inference_realesrgan_video.py -n RealESRGAN_x4plus -i {input_folder} --outscale {scale}"
      ],
      "metadata": {
        "cellView": "form",
        "id": "leE62wRU0RGn"
      },
      "execution_count": null,
      "outputs": []
    }
  ]
}