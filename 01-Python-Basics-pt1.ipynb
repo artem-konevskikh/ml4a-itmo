{
  "cells": [
    {
      "cell_type": "markdown",
      "metadata": {
        "nbpages": {
          "level": 1,
          "link": "[1.2 Python Basics](https://jckantor.github.io/CBE30338/01.02-Python-Basics.html#1.2-Python-Basics)",
          "section": "1.2 Python Basics"
        },
        "id": "nBNgfvowgA8u"
      },
      "source": [
        "# Python Basics"
      ]
    },
    {
      "cell_type": "markdown",
      "metadata": {
        "nbpages": {
          "level": 3,
          "link": "[1.2.2.1 Variables](https://jckantor.github.io/CBE30338/01.02-Python-Basics.html#1.2.2.1-Variables)",
          "section": "1.2.2.1 Variables"
        },
        "id": "5wl2A03UgA8z"
      },
      "source": [
        "### 1 Variables"
      ]
    },
    {
      "cell_type": "code",
      "execution_count": null,
      "metadata": {
        "nbpages": {
          "level": 3,
          "link": "[1.2.2.1 Variables](https://jckantor.github.io/CBE30338/01.02-Python-Basics.html#1.2.2.1-Variables)",
          "section": "1.2.2.1 Variables"
        },
        "id": "gbVIBmv1gA80",
        "outputId": "bb4ab067-4b61-454b-96f3-586376b46807"
      },
      "outputs": [
        {
          "name": "stdout",
          "output_type": "stream",
          "text": [
            "42\n",
            "3.1415\n"
          ]
        }
      ],
      "source": [
        "#A variable stores a piece of data and gives it a name\n",
        "answer = 42\n",
        "\n",
        "#answer contained an integer because we gave it an integer!\n",
        "\n",
        "is_it_thursday = True\n",
        "is_it_wednesday = False\n",
        "\n",
        "#these both are 'booleans' or true/false values\n",
        "\n",
        "pi_approx = 3.1415\n",
        "\n",
        "#This will be a floating point number, or a number containing digits after the decimal point\n",
        "\n",
        "my_name = \"Artem\"\n",
        "#This is a string datatype, the name coming from a string of characters\n",
        "\n",
        "#Data doesn't have to be a singular unit\n",
        "\n",
        "#p.s., we can print all of these with a print command. For Example:\n",
        "print(answer)\n",
        "print(pi_approx)"
      ]
    },
    {
      "cell_type": "markdown",
      "metadata": {
        "nbpages": {
          "level": 3,
          "link": "[1.2.2.2 More Complicated Data Types](https://jckantor.github.io/CBE30338/01.02-Python-Basics.html#1.2.2.2-More-Complicated-Data-Types)",
          "section": "1.2.2.2 More Complicated Data Types"
        },
        "id": "U2-3RfzUgA9V"
      },
      "source": [
        "### 2 More Complicated Data Types"
      ]
    },
    {
      "cell_type": "code",
      "execution_count": null,
      "metadata": {
        "nbpages": {
          "level": 3,
          "link": "[1.2.2.2 More Complicated Data Types](https://jckantor.github.io/CBE30338/01.02-Python-Basics.html#1.2.2.2-More-Complicated-Data-Types)",
          "section": "1.2.2.2 More Complicated Data Types"
        },
        "scrolled": true,
        "id": "Gjk4yslJgA9W",
        "outputId": "4b524140-e85d-4d40-a7f9-afa61b3dbde8"
      },
      "outputs": [
        {
          "name": "stdout",
          "output_type": "stream",
          "text": [
            "['Green', 'Blue', 'Red']\n",
            "[10, 20, 30, 40, 50, 'Sixty']\n",
            "Green\n",
            "Red\n"
          ]
        }
      ],
      "source": [
        "\n",
        "#What if we want to store many integers? We need a list!\n",
        "prices = [10, 20, 30, 40, 50]\n",
        "\n",
        "#This is a way to define a list in place. We can also make an empty list and add to it.\n",
        "colors = []\n",
        "\n",
        "colors.append(\"Green\")\n",
        "colors.append(\"Blue\")\n",
        "colors.append(\"Red\")\n",
        "\n",
        "print(colors)\n",
        "\n",
        "#We can also add unlike data to a list\n",
        "prices.append(\"Sixty\")\n",
        "\n",
        "#As an exercise, look up lists in python and find out how to add in the middle of a list!\n",
        "\n",
        "print(prices)\n",
        "#We can access a specific element of a list too:\n",
        "\n",
        "print(colors[0])\n",
        "print(colors[2])\n",
        "\n",
        "#Notice here how the first element of the list is index 0, not 1! \n",
        "\n",
        "#In addition to lists, there are tuples\n",
        "#Tuples behave very similarly to lists except that you can't change them \n",
        "# after you make them\n",
        "\n",
        "#An empty Tuple isn't very useful:\n",
        "empty_tuple = ()\n",
        "\n",
        "#Nor is a tuple with just one value:\n",
        "one_tuple = (\"first\",)\n",
        "\n",
        "#But tuples with many values are useful:\n",
        "rosa_parks_info = (\"Rosa\", \"Parks\", 1913, \"February\", 4)\n",
        "\n",
        "#You can access tuples just like lists\n",
        "print(rosa_parks_info[0] + \" \" + rosa_parks_info[1])\n",
        "\n",
        "# You cannot modify existing tuples, but you can make new tuples that extend \n",
        "# the information.\n",
        "# I expect Tuples to come up less than lists. So we'll just leave it at that. "
      ]
    },
    {
      "cell_type": "markdown",
      "metadata": {
        "nbpages": {
          "level": 3,
          "link": "[1.2.2.3 Using Variables](https://jckantor.github.io/CBE30338/01.02-Python-Basics.html#1.2.2.3-Using-Variables)",
          "section": "1.2.2.3 Using Variables"
        },
        "id": "tc35qP30gA9Z"
      },
      "source": [
        "### 3 Using Variables"
      ]
    },
    {
      "cell_type": "code",
      "execution_count": null,
      "metadata": {
        "nbpages": {
          "level": 3,
          "link": "[1.2.2.3 Using Variables](https://jckantor.github.io/CBE30338/01.02-Python-Basics.html#1.2.2.3-Using-Variables)",
          "section": "1.2.2.3 Using Variables"
        },
        "scrolled": true,
        "id": "FTFTHz86gA9a",
        "outputId": "0bfa0af8-8bb0-4239-8959-a2cd6e81491b"
      },
      "outputs": [
        {
          "name": "stdout",
          "output_type": "stream",
          "text": [
            "8.0\n",
            "3.5\n",
            "12.9375\n",
            "2.5555555555555554\n",
            "1\n"
          ]
        }
      ],
      "source": [
        "float1 = 5.75\n",
        "float2 = 2.25\n",
        "#Addition, subtraction, multiplication, division are as you expect\n",
        "\n",
        "print(float1 + float2)\n",
        "print(float1 - float2)\n",
        "print(float1 * float2)\n",
        "print(float1 / float2)\n",
        "\n",
        "#Here's an interesting one that showed up in the first homework in 2017. Modulus: \n",
        "print(5 % 2)"
      ]
    },
    {
      "cell_type": "markdown",
      "metadata": {
        "nbpages": {
          "level": 3,
          "link": "[1.2.2.4 Importing in Python: Math and plotting](https://jckantor.github.io/CBE30338/01.02-Python-Basics.html#1.2.2.4-Importing-in-Python:-Math-and-plotting)",
          "section": "1.2.2.4 Importing in Python: Math and plotting"
        },
        "id": "nZeoTFK8gA9a"
      },
      "source": [
        "### 4 Importing in Python: Math and plotting"
      ]
    },
    {
      "cell_type": "code",
      "execution_count": null,
      "metadata": {
        "nbpages": {
          "level": 3,
          "link": "[1.2.2.4 Importing in Python: Math and plotting](https://jckantor.github.io/CBE30338/01.02-Python-Basics.html#1.2.2.4-Importing-in-Python:-Math-and-plotting)",
          "section": "1.2.2.4 Importing in Python: Math and plotting"
        },
        "id": "oQkyTEtxgA9b"
      },
      "outputs": [],
      "source": [
        "#Just about every standard math function on a calculator has a python equivalent pre made.\n",
        "#however, they are from the 'math' package in python. Let's add that package!\n",
        "import math\n",
        "print(math.log(float1))\n",
        "print(math.exp(float2))\n",
        "print(math.pow(2,5))\n",
        "# There is a quicker way to write exponents if you want:\n",
        "print(2.0**5.0)\n",
        "\n",
        "#Like in MATLAB, you can expand the math to entire lists\n",
        "list3 = [1, 2, 3, 4, 5]\n",
        "print(2 * list3)"
      ]
    },
    {
      "cell_type": "code",
      "execution_count": null,
      "metadata": {
        "nbpages": {
          "level": 3,
          "link": "[1.2.2.4 Importing in Python: Math and plotting](https://jckantor.github.io/CBE30338/01.02-Python-Basics.html#1.2.2.4-Importing-in-Python:-Math-and-plotting)",
          "section": "1.2.2.4 Importing in Python: Math and plotting"
        },
        "id": "VgeSPnScgA9b",
        "outputId": "2781e4a1-4663-4af8-ab82-2df29d5b4f3b"
      },
      "outputs": [
        {
          "name": "stdout",
          "output_type": "stream",
          "text": [
            "1.749199854809259\n",
            "9.487735836358526\n",
            "32.0\n",
            "32.0\n"
          ]
        },
        {
          "data": {
            "text/plain": [
              "[<matplotlib.lines.Line2D at 0x115181f28>]"
            ]
          },
          "execution_count": 7,
          "metadata": {},
          "output_type": "execute_result"
        },
        {
          "data": {
            "image/png": "[encoded data removed]",
            "text/plain": [
              "<matplotlib.figure.Figure at 0x10e007828>"
            ]
          },
          "metadata": {},
          "output_type": "display_data"
        }
      ],
      "source": [
        "#We can plot easily in Python like in matlab, just import the relevant package!\n",
        "%matplotlib inline\n",
        "import matplotlib.pyplot as plt\n",
        "\n",
        "x_vals = [-2, -1, 0, 1, 2]\n",
        "y_vals = [-4, -2, 0, 2, 4]\n",
        "plt.plot(x_vals, y_vals)"
      ]
    },
    {
      "cell_type": "markdown",
      "metadata": {
        "nbpages": {
          "level": 3,
          "link": "[1.2.2.5 Loops in Python](https://jckantor.github.io/CBE30338/01.02-Python-Basics.html#1.2.2.5-Loops-in-Python)",
          "section": "1.2.2.5 Loops in Python"
        },
        "id": "PZ8aGei-gA9c"
      },
      "source": [
        "### 5 Loops in Python"
      ]
    },
    {
      "cell_type": "code",
      "execution_count": null,
      "metadata": {
        "nbpages": {
          "level": 3,
          "link": "[1.2.2.5 Loops in Python](https://jckantor.github.io/CBE30338/01.02-Python-Basics.html#1.2.2.5-Loops-in-Python)",
          "section": "1.2.2.5 Loops in Python"
        },
        "id": "mFbChBwmgA9c",
        "outputId": "cdd02e95-7985-4c70-a477-67e09ec94940"
      },
      "outputs": [
        {
          "name": "stdout",
          "output_type": "stream",
          "text": [
            "1\n",
            "1\n",
            "2\n",
            "3\n",
            "5\n",
            "8\n",
            "Let's try that again\n",
            "1\n",
            "1\n",
            "2\n",
            "3\n",
            "5\n",
            "8\n",
            "One more time:\n",
            "1\n",
            "1\n",
            "2\n",
            "3\n",
            "5\n",
            "8\n"
          ]
        }
      ],
      "source": [
        "#Repeat code until a conditional statement ends the loop\n",
        "\n",
        "#Let's try printing a list\n",
        "fib = [1, 1, 2, 3, 5, 8]\n",
        "\n",
        "#While loops are the basic type\n",
        "i = 0\n",
        "while(i < len(fib)):\n",
        "    print(fib[i])\n",
        "    i = i + 1\n",
        "    \n",
        "#In matlab, to do the same thing you would have the conditional as: counter < (length(fib) + 1)\n",
        "#This is because matlab starts indexing at 1, and python starts at 0.\n",
        "    \n",
        "#The above type of loop is so common that the 'for' loop is the way to write it faster.\n",
        "\n",
        "print(\"Let's try that again\")\n",
        "#This is most similar to for loops in matlab\n",
        "for i in range(0, len(fib)) :\n",
        "    print(fib[i])\n",
        "\n",
        "print(\"One more time:\")\n",
        "#Or you can do so even neater\n",
        "for e in fib:\n",
        "    print(e)"
      ]
    },
    {
      "cell_type": "markdown",
      "source": [
        "## 6 Conditionals in Python"
      ],
      "metadata": {
        "id": "SsvtHxwOKq0_"
      }
    },
    {
      "cell_type": "code",
      "source": [
        "#Sometimes you want to execute code only in certain circumstances. \n",
        "\n",
        "#Change answer and see what code is executed:\n",
        "answer = 42\n",
        "\n",
        "if answer == 42:\n",
        "    print('This is the answer to the ultimate question')\n",
        "elif answer < 42:\n",
        "    print('This is less than the answer to the ultimate question')\n",
        "else:\n",
        "    print('This is more than the answer to the ultimate question')\n",
        "print('This print statement is run no matter what because it is not indented!')\n",
        "\n",
        "#An if statement is an example of a structure that creates a new block. The block includes all of the code that is \n",
        "#indented. The indentation (tab character) is imperative. Don't forget it!\n",
        "\n",
        "#This is normally just good coding style in other languages, but in python it isn't optional\n",
        "\n",
        "#We can check multiple things at once using boolean operations\n",
        "snowy = True\n",
        "day = \"Monday\"\n",
        "\n",
        "#How long does it take me to get to class in the morning?\n",
        "\n",
        "if (snowy == False) and (day != \"Monday\"):\n",
        "    #and is boolean and. True only if both are true. False otherwise\n",
        "    time = 7\n",
        "elif (snowy == True) and (day == \"Monday\"):\n",
        "    time = 11\n",
        "elif (rainy == True) or (day == \"Monday\"):\n",
        "    time = 9\n",
        "    \n",
        "print(\"It takes me %d minutes\" %(time))\n",
        "    \n",
        "#You can structure these statements more neatly if you \"nest\" if statements (put an if statement inside an if statement)\n",
        "#But this is just for edification."
      ],
      "metadata": {
        "id": "REJRlrRxKrDO"
      },
      "execution_count": null,
      "outputs": []
    },
    {
      "cell_type": "markdown",
      "source": [
        "## 7 Functions in Python"
      ],
      "metadata": {
        "id": "zGsz5z0BK8MN"
      }
    },
    {
      "cell_type": "code",
      "source": [
        "#We can separate off code into functions, that can take input and can give output. They serve as black boxes from the \n",
        "#perspective of the rest of our code\n",
        "\n",
        "#use the def keyword, and indent because this creates a new block\n",
        "def print_me( string ):\n",
        "    print(string)\n",
        "   \n",
        "   #End with the \"return\" keyword\n",
        "    return\n",
        "\n",
        "#Your functions can return data if you so choose\n",
        "def step(x):\n",
        "    if (x < 0):\n",
        "        return -1\n",
        "    elif (x > 0):\n",
        "        return 1\n",
        "\n",
        "#call functions by repeating their name, and putting your variable in the parenthesis. \n",
        "#Your variable need not be named the same thing, but it should be the right type!\n",
        "\n",
        "print(step(-1))\n",
        "print(step(1))\n",
        "\n",
        "#what happens for x = 0?\n",
        "print(step(0))\n",
        "\n",
        "#Python automatically adds in a \"return none\" statement if you are missing one. \n",
        "#If you see \"none\" make sure your program can work with that!\n",
        "\n",
        "\n",
        "#Fix the return none issue\n",
        "def step_v2(x):\n",
        "    if (x < 0):\n",
        "        return -1\n",
        "    elif (x >= 0):\n",
        "        return 1\n",
        "    \n",
        "print(step_v2(0))"
      ],
      "metadata": {
        "id": "5YRj3Vd1K86H"
      },
      "execution_count": null,
      "outputs": []
    },
    {
      "cell_type": "markdown",
      "metadata": {
        "nbpages": {
          "level": 2,
          "link": "[1.2.3 Additional Resources](https://jckantor.github.io/CBE30338/01.02-Python-Basics.html#1.2.3-Additional-Resources)",
          "section": "1.2.3 Additional Resources"
        },
        "id": "LkRGak-9gA9d"
      },
      "source": [
        "## Additional Resources\n",
        "* [List of resources for the begginers](https://www.freecodecamp.org/news/learn-python-free-python-courses-for-beginners/)\n",
        "\n",
        "* [Official Python Reference](https://docs.python.org/3.9/reference/)\n",
        "\n",
        "* If you want to learn python robustly: [Learn Python the Hard Way](https://learnpythonthehardway.org/python3/)\n",
        "\n",
        "* Website with very practical articles [RealPython](https://realpython.com/)\n"
      ]
    }
  ],
  "metadata": {
    "anaconda-cloud": {},
    "kernelspec": {
      "display_name": "Python 3",
      "language": "python",
      "name": "python3"
    },
    "language_info": {
      "codemirror_mode": {
        "name": "ipython",
        "version": 3
      },
      "file_extension": ".py",
      "mimetype": "text/x-python",
      "name": "python",
      "nbconvert_exporter": "python",
      "pygments_lexer": "ipython3",
      "version": "3.7.3"
    },
    "colab": {
      "name": "01-Python-Basics.ipynb",
      "provenance": [],
      "collapsed_sections": []
    }
  },
  "nbformat": 4,
  "nbformat_minor": 0
}