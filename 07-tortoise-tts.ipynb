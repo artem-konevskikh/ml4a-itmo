{
  "cells": [
    {
      "cell_type": "markdown",
      "metadata": {
        "id": "_pIZ3ZXNp7cf"
      },
      "source": [
        "# Tortoise! 🐢🐢🐢🐢\n",
        "\n",
        "\n",
        "Made by [Artem Konevskikh](https://aiculedssul.net/)\n",
        "\n",
        "Based on [Tortoise TTS](https://github.com/neonbjb/tortoise-tts)"
      ]
    },
    {
      "cell_type": "code",
      "source": [
        "#@title GPU Check\n",
        "#@markdown You can check which GPU you got. V100 is perfect, P100 and T4 is good, and the K80 is the weakest one\n",
        "!nvidia-smi -L"
      ],
      "metadata": {
        "cellView": "form",
        "id": "7SJOTjRCVxRS"
      },
      "execution_count": null,
      "outputs": []
    },
    {
      "cell_type": "code",
      "execution_count": null,
      "metadata": {
        "id": "JrK20I32grP6",
        "cellView": "form"
      },
      "outputs": [],
      "source": [
        "#@title Install\n",
        "# the scipy version packaged with colab is not tolerant of misformated WAV files.\n",
        "# install the latest version.\n",
        "!pip3 install -U scipy\n",
        "!git clone https://github.com/jnordberg/tortoise-tts.git\n",
        "%cd tortoise-tts\n",
        "!pip3 install transformers==4.19.0\n",
        "!pip3 install -r requirements.txt\n",
        "!pip3 install einops==0.5.0\n",
        "!pip3 install rotary_embedding_torch==0.1.5\n",
        "!pip3 install unidecode==1.3.5\n",
        "!python3 setup.py install"
      ]
    },
    {
      "cell_type": "code",
      "execution_count": null,
      "metadata": {
        "id": "Gen09NM4hONQ",
        "cellView": "form"
      },
      "outputs": [],
      "source": [
        "#@title Load\n",
        "# Imports used through the rest of the notebook.\n",
        "import torch\n",
        "import torchaudio\n",
        "import torch.nn as nn\n",
        "import torch.nn.functional as F\n",
        "\n",
        "import IPython\n",
        "\n",
        "from tortoise.api import TextToSpeech\n",
        "from tortoise.utils.audio import load_audio, load_voice, load_voices\n",
        "\n",
        "# This will download all the models used by Tortoise from the HuggingFace hub.\n",
        "tts = TextToSpeech()"
      ]
    },
    {
      "cell_type": "code",
      "source": [
        "#@title Mount Google Drive\n",
        "#@markdown Mount Google Drive to load custom voices and to save the results.\n",
        "\n",
        "from google.colab import drive\n",
        "drive.mount('/content/drive')"
      ],
      "metadata": {
        "cellView": "form",
        "id": "tV6ll4TQWAZb"
      },
      "execution_count": null,
      "outputs": []
    },
    {
      "cell_type": "code",
      "execution_count": null,
      "metadata": {
        "id": "bt_aoxONjfL2"
      },
      "outputs": [],
      "source": [
        "text = \"\"\"\n",
        "We're no strangers to love\n",
        "You know the rules, and so do I\n",
        "A full commitment is what I'm thinking of\n",
        "You wouldn't get this from any other guy\n",
        "\"\"\""
      ]
    },
    {
      "cell_type": "code",
      "source": [
        "#@title Generate\n",
        "#@markdown Output wav file\n",
        "output_file = '/content/generated.wav' #@param {type:\"string\"}\n",
        "#@markdown Pick a \"preset mode\" to determine quality.\n",
        "preset = \"fast\" #@param [\"ultra_fast\", \"fast\", \"standard\", \"high_quality\"]\n",
        "#@markdown Select voice\n",
        "voice = 'myself' #@param [\"angie\", \"applejack\", \"cond_latent_example\", \"daniel\", \"deniro\", \"emma\", \"freeman\", \"geralt\", \"halle\", \"jlaw\", \"lj\", \"mol\", \"myself\", \"pat\", \"pat2\", \"rainbow\", \"snakes\", \"tim_reynolds\", \"tom\", \"train_atkins\", \"train_daws\", \"train_dotrice\", \"train_dreams\", \"train_empire\", \"train_grace\", \"train_kennard\", \"train_lescault\", \"train_mouse\", \"weaver\", \"william\"]\n",
        "#@markdown Or generate random voice\n",
        "gen_random = False #@param {type:\"boolean\"}\n",
        "\n",
        "if gen_random:\n",
        "  gen = tts.tts_with_preset(text, voice_samples=None, conditioning_latents=None, preset=preset)\n",
        "  torchaudio.save(output_file, gen.squeeze(0).cpu(), 24000)\n",
        "else:\n",
        "  voice_samples, conditioning_latents = load_voice(voice)\n",
        "  gen = tts.tts_with_preset(text, voice_samples=voice_samples, conditioning_latents=conditioning_latents, \n",
        "                            preset=preset)\n",
        "  torchaudio.save(output_file, gen.squeeze(0).cpu(), 24000)\n",
        "  \n",
        "IPython.display.Audio(output_file)"
      ],
      "metadata": {
        "cellView": "form",
        "id": "uH1Cy-KZORuH"
      },
      "execution_count": null,
      "outputs": []
    },
    {
      "cell_type": "code",
      "source": [
        "#@title Mix voices\n",
        "#@markdown Output wav file.\n",
        "output_file = '/content/generated2.wav' #@param {type:\"string\"}\n",
        "#@markdown Pick a \"preset mode\" to determine quality.\n",
        "preset = \"fast\" #@param [\"ultra_fast\", \"fast\", \"standard\", \"high_quality\"]\n",
        "#@markdown Type comma-separated list of voices.\n",
        "voices = 'angie,  myself,  deniro' #@param {type:\"string\"}\n",
        "\n",
        "voices = [v.strip() for v in voices.split(',')]\n",
        "print(voices)\n",
        "voice_samples, conditioning_latents = load_voices(voices)\n",
        "gen = tts.tts_with_preset(text, voice_samples=voice_samples, conditioning_latents=conditioning_latents, \n",
        "                          preset=preset)\n",
        "torchaudio.save(output_file, gen.squeeze(0).cpu(), 24000)\n",
        "\n",
        "IPython.display.Audio(output_file)"
      ],
      "metadata": {
        "cellView": "form",
        "id": "3BHgL3cbQS4V"
      },
      "execution_count": null,
      "outputs": []
    },
    {
      "cell_type": "code",
      "source": [
        "#@title Custom voice (not tested yet!)\n",
        "#@markdown Optionally, you can use your own voice. You should upload at least 2 audio clips. They must be a WAV file, 6-10 seconds long.\n",
        "\n",
        "#@markdown Custom voice name\n",
        "CUSTOM_VOICE_NAME = \"custom\" #@param {type:\"string\"}\n",
        "#@markdown Folder with the wav files\n",
        "input_folder = '/content/drive/MyDrive/voice' #@param {type:\"string\"}\n",
        "#@markdown Output wav file.\n",
        "output_file = '/content/generated2.wav' #@param {type:\"string\"}\n",
        "#@markdown Pick a \"preset mode\" to determine quality.\n",
        "preset = \"fast\" #@param [\"ultra_fast\", \"fast\", \"standard\", \"high_quality\"]\n",
        "\n",
        "input_folder_mask = f\"{input_folder}/*.wav\"\n",
        "custom_voice_folder = f\"tortoise/voices/{CUSTOM_VOICE_NAME}/\"\n",
        "\n",
        "!mkdir $custom_voice_folder\n",
        "!cp $input_folder_mask $custom_voice_folder\n",
        "\n",
        "\n",
        "# Generate speech with the custotm voice.\n",
        "voice_samples, conditioning_latents = load_voice(CUSTOM_VOICE_NAME)\n",
        "gen = tts.tts_with_preset(text, voice_samples=voice_samples, conditioning_latents=conditioning_latents, \n",
        "                          preset=preset)\n",
        "torchaudio.save(output_file, gen.squeeze(0).cpu(), 24000)\n",
        "IPython.display.Audio(output_file)"
      ],
      "metadata": {
        "id": "VQgw3KeV8Yqb",
        "cellView": "form"
      },
      "execution_count": null,
      "outputs": []
    }
  ],
  "metadata": {
    "accelerator": "GPU",
    "colab": {
      "name": "07-tortoise-tts.ipynb",
      "provenance": []
    },
    "kernelspec": {
      "display_name": "Python 3",
      "name": "python3"
    },
    "language_info": {
      "name": "python"
    }
  },
  "nbformat": 4,
  "nbformat_minor": 0
}