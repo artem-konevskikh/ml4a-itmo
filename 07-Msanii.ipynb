{
  "nbformat": 4,
  "nbformat_minor": 0,
  "metadata": {
    "colab": {
      "provenance": []
    },
    "kernelspec": {
      "name": "python3",
      "display_name": "Python 3"
    },
    "language_info": {
      "name": "python"
    }
  },
  "cells": [
    {
      "cell_type": "markdown",
      "source": [
        "# Msanii\n",
        "\n",
        "Made by [Artem Konevskikh](https://aiculedssul.net/)\n",
        "\n",
        "Based on [Msanii](https://kinyugo.github.io/msanii-demo/)"
      ],
      "metadata": {
        "id": "LUetqzfZA_OJ"
      }
    },
    {
      "cell_type": "code",
      "execution_count": null,
      "metadata": {
        "cellView": "form",
        "id": "8sw_y1NuA-Ww"
      },
      "outputs": [],
      "source": [
        "#@title Install\n",
        "%pip install -q git+https://github.com/Kinyugo/msanii.git\n",
        "%pip install -q gdown --upgrade --no-cache\n",
        "!gdown 1G9kF0r5vxYXPSdSuv4t3GR-sBO8xGFCe\n",
        "\n",
        "from omegaconf import OmegaConf\n",
        "\n",
        "from msanii.config import DemoConfig\n",
        "from msanii.demo import run_demo"
      ]
    },
    {
      "cell_type": "code",
      "source": [
        "#@title Run\n",
        "dict_config = {\n",
        "    \"ckpt_path\": \"/content/msanii.pt\",\n",
        "    \"device\": \"cuda\",  # cpu or cuda\n",
        "    \"dtype\": \"float32\",  # torch.dtype\n",
        "    \"launch\": False,  # launch demo?\n",
        "}\n",
        "\n",
        "default_config = OmegaConf.structured(DemoConfig)\n",
        "custom_config = OmegaConf.create(dict_config)\n",
        "config = OmegaConf.merge(default_config, custom_config)\n",
        "\n",
        "demo = run_demo(config)\n",
        "demo.launch(debug=True)"
      ],
      "metadata": {
        "cellView": "form",
        "id": "qKj0yAcABbau"
      },
      "execution_count": null,
      "outputs": []
    }
  ]
}