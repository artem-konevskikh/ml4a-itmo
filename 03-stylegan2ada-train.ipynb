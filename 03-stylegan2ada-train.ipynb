{
  "nbformat": 4,
  "nbformat_minor": 0,
  "metadata": {
    "accelerator": "GPU",
    "colab": {
      "name": "03-stylegan2ada-train.ipynb",
      "provenance": []
    },
    "kernelspec": {
      "display_name": "Python 3",
      "name": "python3"
    },
    "language_info": {
      "name": "python"
    }
  },
  "cells": [
    {
      "cell_type": "markdown",
      "metadata": {
        "id": "qZkTQZc7cMWN"
      },
      "source": [
        "# StyleGan2-ADA Training\n",
        "\n",
        "Made by [Artem Konevskikh](http://aiculedssul.net/)\n",
        "\n",
        "Based on [dvschultz notebooks](https://github.com/dvschultz/ml-art-colabs)\n",
        "\n",
        "In this notebook we will do transfer learning with StyleGAN2 and custom datasets.\n",
        "\n",
        "This means we will not train GAN on our images from scratch (as it takes about two weeks) but we will use the model already trained on the other images as a starting point. It will reduce training time to about 10 hours by skipping first stages where neural network learns low level features of images that are almost the same for any kind of images."
      ]
    },
    {
      "cell_type": "code",
      "source": [
        "#@title GPU Check\n",
        "#@markdown You can check which GPU you got. V100 is perfect, P100 and T4 is good, but if you got K80 its better to restart the notebook by selecting **Disconnect and delete runtime** in **Runtime** menu, because it is very slow\n",
        "# %tensorflow_version 1.x\n",
        "!nvidia-smi -L\n"
      ],
      "metadata": {
        "cellView": "form",
        "id": "iN5Zo1uVXJ4O"
      },
      "execution_count": null,
      "outputs": []
    },
    {
      "cell_type": "code",
      "metadata": {
        "cellView": "form",
        "id": "WOgc3AOiY6iU"
      },
      "source": [
        "#@title Mount Google Drive\n",
        "#@markdown Mount Google Drive to load pretrained models and to save the results.\n",
        "\n",
        "from google.colab import drive\n",
        "drive.mount('/content/drive')"
      ],
      "execution_count": null,
      "outputs": []
    },
    {
      "cell_type": "code",
      "source": [
        "#@title Install Libraries\n",
        "#@markdown At some point it will show you Restart Runtime button. Please restart it by pressing this button\n",
        "!wget -c https://repo.anaconda.com/miniconda/Miniconda3-py39_23.3.1-0-Linux-x86_64.sh\n",
        "!chmod +x Miniconda3-py39_23.3.1-0-Linux-x86_64.sh\n",
        "!bash ./Miniconda3-py39_23.3.1-0-Linux-x86_64.sh -b -u -p /usr/local \n",
        "import os\n",
        "if os.path.isdir('/content/anaconda'): root_path = '/content/anaconda'\n",
        "else: root_path = '/usr/local/'\n",
        "os.environ['PATH'] += f\":{root_path}/bin\"\n",
        "!conda install python=3.9\n",
        "!pip install setuptools==59.5.0 ninja opensimplex torch==1.9.0+cu111 torchvision==0.10.0+cu111 -f https://download.pytorch.org/whl/torch_stable.html\n",
        "!pip install click psutil scipy"
      ],
      "metadata": {
        "cellView": "form",
        "id": "2Vd-4UjFZSv-"
      },
      "execution_count": null,
      "outputs": []
    },
    {
      "cell_type": "code",
      "metadata": {
        "id": "G6nP8w7IZDpb",
        "cellView": "form"
      },
      "source": [
        "#@title Install Stylegan\n",
        "#@markdown StyleGAN2-ada will be installed to your Google Drive to speed up the training process\n",
        "\n",
        "#@markdown Run this cell. If you’re already installed the repo, it will skip the installation process and change into the repo’s directory. If you haven’t installed it, it will install all the files necessary.\n",
        "\n",
        "import os\n",
        "import shlex\n",
        "if os.path.isdir(\"/content/drive/MyDrive/stylegan2ada\"):\n",
        "    %cd \"/content/drive/MyDrive/stylegan2ada/stylegan2-ada-pytorch\"\n",
        "elif os.path.isdir(\"/content/drive/\"):\n",
        "    #install script\n",
        "    %cd \"/content/drive/MyDrive/\"\n",
        "    !mkdir stylegan2ada\n",
        "    %cd stylegan2ada\n",
        "    !git clone https://github.com/artem-konevskikh/stylegan2-ada-pytorch.git\n",
        "    %cd stylegan2-ada-pytorch\n",
        "    !mkdir downloads\n",
        "    !mkdir datasets\n",
        "    !mkdir pretrained\n",
        "    # !gdown --id 1-5xZkD8ajXw1DdopTkH_rAoCsD72LhKU -O /content/drive/MyDrive/colab-sg2-ada-pytorch/stylegan2-ada-pytorch/pretrained/wikiart.pkl\n",
        "else:\n",
        "    !git clone https://github.com/artem-konevskikh/stylegan2-ada-pytorch.git\n",
        "    %cd stylegan2-ada-pytorch\n",
        "    !mkdir downloads\n",
        "    !mkdir datasets\n",
        "    !mkdir pretrained\n",
        "    # %cd pretrained\n",
        "    # !gdown --id 1-5xZkD8ajXw1DdopTkH_rAoCsD72LhKU\n",
        "    %cd ../\n",
        "\n",
        "\n"
      ],
      "execution_count": null,
      "outputs": []
    },
    {
      "cell_type": "code",
      "metadata": {
        "cellView": "form",
        "id": "-MgOcCseZqlA"
      },
      "source": [
        "#@title Data Preparation\n",
        "#@markdown Input image directory\n",
        "input_dir = '/content/drive/MyDrive/scraped-images/Mycelium-dataset-512' #@param {type: \"string\"}\n",
        "#@markdown Path to the zip file where converted dataset will be stored\n",
        "dataset_file = '/content/drive/MyDrive/stylegan2ada/stylegan2-ada-pytorch/datasets/mycelium.zip' #@param {type: \"string\"}\n",
        "\n",
        "if not dataset_file.endswith('.zip'):\n",
        "  dataset_file += '.zip'\n",
        "input_dir = shlex.quote(input_dir)\n",
        "dataset_file = shlex.quote(dataset_file)\n",
        "!python dataset_tool.py --source {input_dir} --dest {dataset_file}"
      ],
      "execution_count": null,
      "outputs": []
    },
    {
      "cell_type": "code",
      "metadata": {
        "id": "E25JTmDbZX1z",
        "cellView": "form"
      },
      "source": [
        "#@title Train a custom model\n",
        "\n",
        "#@markdown Path to the dataset zip file\n",
        "dataset = \"/content/drive/MyDrive/stylegan2ada/stylegan2-ada-pytorch/datasets/mycelium.zip\" #@param {type: \"string\"}\n",
        "\n",
        "#@markdown For transfer learning set it to `ffhq256`, `ffhq512` or `ffhq1024`accordingly to your images resolution.<br />\n",
        "#@markdown If you want to resume training process, provide the path to your latest .pkl file\n",
        "resume_from = \"ffhq512\" #@param {type: \"string\"}\n",
        "\n",
        "dataset = shlex.quote(dataset)\n",
        "resume_from = shlex.quote(resume_from)\n",
        "#don't edit this unless you know what you're doing :)\n",
        "!python train.py --outdir ./results --snap=1 --cfg='11gb-gpu' --data={dataset} --aug=noaug --mirror=False --mirrory=False --metrics=None --resume={resume_from}"
      ],
      "execution_count": null,
      "outputs": []
    },
    {
      "cell_type": "markdown",
      "metadata": {
        "id": "GwPrEVh5coPf"
      },
      "source": [
        "### While it’s training...\n",
        "**Once the above cell is running you should be training!**\n",
        "\n",
        "Don’t close this tab! Colab needs to be open and running in order to continue training. \n",
        "\n",
        "Every ~40min or so a new line should get added to your output, indicated its still training. Depending on you `snapshot_count` setting you should see the results folder (`/content/drive/MyDrive/colab-sg2-ada/stylegan2-ada/results`) in your Google drive folder fill with both samples (`fakesXXXXXx.jpg`) and model weights (`network-snapshot-XXXXXX.pkl`). The samples are worth looking at while it trains but don’t get too worried about each individual sample.\n",
        "\n",
        "Once Colab shuts off, you can Reconnect the notebook and re-run every cell from top to bottom. Make sure you update the `resume_from` path to continue training from the latest model."
      ]
    }
  ]
}