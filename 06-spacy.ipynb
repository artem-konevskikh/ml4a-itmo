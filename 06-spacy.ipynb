{
  "nbformat": 4,
  "nbformat_minor": 0,
  "metadata": {
    "colab": {
      "name": "06-spacy.ipynb",
      "provenance": [],
      "toc_visible": true
    },
    "kernelspec": {
      "name": "python3",
      "display_name": "Python 3"
    },
    "language_info": {
      "name": "python"
    }
  },
  "cells": [
    {
      "cell_type": "markdown",
      "source": [
        "# SpaCy\n",
        "\n",
        "Solving tiypical Natural Language Processing tasks with SpaCy\n",
        "\n",
        "Made by [Artem Konevskikh](https://aiculedssul.net/)"
      ],
      "metadata": {
        "id": "zKWTomiiq9vp"
      }
    },
    {
      "cell_type": "code",
      "source": [
        "#@title Load libraries\n",
        "import os\n",
        "import spacy\n",
        "from spacy import displacy\n",
        "import pandas as pd\n",
        "from google.colab import data_table\n",
        "from IPython.display import clear_output \n",
        "\n",
        "data_table.enable_dataframe_formatter()"
      ],
      "metadata": {
        "cellView": "form",
        "id": "vvaH_6tqr9s1"
      },
      "execution_count": null,
      "outputs": []
    },
    {
      "cell_type": "code",
      "execution_count": null,
      "metadata": {
        "cellView": "form",
        "id": "SE531ThXp_Oz"
      },
      "outputs": [],
      "source": [
        "#@title Select language model\n",
        "lang = \"en_core_web_lg\"  #@param [\"en_core_web_sm\", \"en_core_web_md\", \"en_core_web_lg\", \"ru_core_news_sm\", \"es_core_news_sm\", \"fr_core_news_sm\" ]\n",
        "#@markdown All supported languages are here https://spacy.io/usage/models#languages\n",
        "!python -m spacy download $lang\n",
        "nlp = spacy.load(lang)"
      ]
    },
    {
      "cell_type": "code",
      "source": [
        "#@title Linguistic Features\n",
        "#@markdown Read more here https://spacy.io/usage/linguistic-features\n",
        "text = \"Timothy Bloxam Morton (born 19 June 1968) is a professor and Rita Shea Guffey Chair in English at Rice University.\"  #@param {type:\"string\"}\n",
        "doc = nlp(text)\n",
        "cols = (\"text\", \"lemma\", \"POS\", \"explain\", \"tag\", \"dep\", \"shape\", \"alpha\", \"stopword\")\n",
        "\n",
        "rows = []\n",
        "\n",
        "for t in doc:\n",
        "    row = [t.text, t.lemma_, t.pos_, spacy.explain(t.pos_), t.tag_, t.dep_,\n",
        "            t.shape_, t.is_alpha, t.is_stop]\n",
        "    rows.append(row)\n",
        "\n",
        "df = pd.DataFrame(rows, columns=cols)\n",
        "    \n",
        "df"
      ],
      "metadata": {
        "cellView": "form",
        "id": "SGGMadtxs83u"
      },
      "execution_count": null,
      "outputs": []
    },
    {
      "cell_type": "code",
      "source": [
        "#@title Dependency parsing\n",
        "#@markdown Noun chunks are “base noun phrases” – flat phrases that have a noun as their head. You can think of noun chunks as a noun plus the words describing the noun \n",
        "\n",
        "#@markdown **Text**: The original noun chunk text.<br/>\n",
        "#@markdown **Root text**: The original text of the word connecting the noun chunk to the rest of the parse.<br/>\n",
        "#@markdown **Root dep**: Dependency relation connecting the root to its head.<br/>\n",
        "#@markdown **Root head text**: The text of the root token’s head.\n",
        "\n",
        "#@markdown Mor on dependency parsing https://spacy.io/usage/linguistic-features#dependency-parse\n",
        "text = \"Timothy Bloxam Morton (born 19 June 1968) is a professor and Rita Shea Guffey Chair in English at Rice University.\"  #@param {type:\"string\"}\n",
        "doc = nlp(text)\n",
        "cols = ('Text', 'Root text', 'Root dependency', 'Root head text')\n",
        "rows = []\n",
        "for chunk in doc.noun_chunks:\n",
        "    row = [chunk.text, chunk.root.text, chunk.root.dep_,\n",
        "            chunk.root.head.text]\n",
        "    rows.append(row)\n",
        "\n",
        "df = pd.DataFrame(rows, columns=cols)\n",
        "\n",
        "df"
      ],
      "metadata": {
        "cellView": "form",
        "id": "E-US7TR8vB0Z"
      },
      "execution_count": null,
      "outputs": []
    },
    {
      "cell_type": "code",
      "source": [
        "#@title Visualize dependencies\n",
        "\n",
        "displacy.render(doc, style='dep', jupyter=True)"
      ],
      "metadata": {
        "cellView": "form",
        "id": "O_XR87rIyLTD"
      },
      "execution_count": null,
      "outputs": []
    },
    {
      "cell_type": "code",
      "source": [
        "#@title Named Entity Recognition\n",
        "#@markdown Named Entity Recognition (NER) is the task of classifying tokens according to a class, for example, identifying a token as a person, an organisation or a location.\n",
        "\n",
        "#@markdown Read more https://spacy.io/usage/linguistic-features#named-entities\n",
        "\n",
        "text = \"Timothy Bloxam Morton (born 19 June 1968) is a professor and Rita Shea Guffey Chair in English at Rice University.\"  #@param {type:\"string\"}\n",
        "doc = nlp(text)\n",
        "cols = ('Text', 'Start', 'End', 'Label')\n",
        "rows = []\n",
        "for ent in doc.ents:\n",
        "    row = [ent.text, ent.start_char, ent.end_char, ent.label_]\n",
        "    rows.append(row)\n",
        "\n",
        "df = pd.DataFrame(rows, columns=cols)\n",
        "\n",
        "df"
      ],
      "metadata": {
        "cellView": "form",
        "id": "nKjByO6PsLnM"
      },
      "execution_count": null,
      "outputs": []
    },
    {
      "cell_type": "code",
      "source": [
        "#@title Visualize NER\n",
        "displacy.render(doc, style=\"ent\", jupyter=True)"
      ],
      "metadata": {
        "cellView": "form",
        "id": "rt-jkNSgz6v6"
      },
      "execution_count": null,
      "outputs": []
    },
    {
      "cell_type": "code",
      "source": [
        "#@title All entities\n",
        "for ent in nlp.pipe_labels['ner']:\n",
        "  print(f\"{ent} - {spacy.explain(ent)}\")"
      ],
      "metadata": {
        "cellView": "form",
        "id": "kXTIkfDFL2HQ"
      },
      "execution_count": null,
      "outputs": []
    },
    {
      "cell_type": "code",
      "source": [
        "#@title Semantic similarity\n",
        "#@markdown Similarity is determined by comparing word vectors or “word embeddings”, multi-dimensional meaning representations of a word. \n",
        "\n",
        "#@markdown **NOTE:** spaCy’s small pipeline packages (all packages that end in sm) don’t ship with word vectors, and only include context-sensitive tensors. This means you can still use the similarity() methods to compare documents, spans and tokens – but the result won’t be as good, and individual tokens won’t have any vectors assigned. So in order to use real word vectors, you need to download a larger pipeline package\n",
        "\n",
        "#@markdown Read more https://spacy.io/usage/linguistic-features#vectors-similarity\n",
        "\n",
        "text1 = \"spaCy features an extremely fast statistical entity recognition system, that assigns labels to contiguous spans of tokens.\"  #@param {type:\"string\"}\n",
        "text2 = \"The Onyx was designed as an affordable performance benchmark\" #@param {type:\"string\"}\n",
        "\n",
        "doc1 = nlp(text1)\n",
        "doc2 = nlp(text2)\n",
        "\n",
        "print(f\"Similarity: {doc1.similarity(doc2)}\")"
      ],
      "metadata": {
        "cellView": "form",
        "id": "yztJ-Rxw21LW"
      },
      "execution_count": null,
      "outputs": []
    },
    {
      "cell_type": "code",
      "source": [
        "#@title Vector Algebra\n",
        "#@markdown Is `Queen = King - Man + Woman`?\n",
        "from scipy import spatial\n",
        " \n",
        "cosine_similarity = lambda x, y: 1 - spatial.distance.cosine(x, y)\n",
        " \n",
        "man = nlp.vocab['man'].vector\n",
        "woman = nlp.vocab['woman'].vector\n",
        "queen = nlp.vocab['queen'].vector\n",
        "king = nlp.vocab['king'].vector\n",
        " \n",
        "new_vector = king-man+woman\n",
        "similarities = []\n",
        "\n",
        "for word in nlp.vocab:\n",
        "    if word.has_vector and word.is_alpha and word.is_lower:\n",
        "        similarities.append((cosine_similarity(new_vector,word.vector),word.text))\n",
        "\n",
        "for similarity,word in  sorted(similarities,reverse=True)[:10]:\n",
        "    print(word)"
      ],
      "metadata": {
        "cellView": "form",
        "id": "XwBIiQPPVioS"
      },
      "execution_count": null,
      "outputs": []
    },
    {
      "cell_type": "markdown",
      "source": [
        "## Read more\n",
        "\n",
        "SpaCy has really great doc page with lots of examples and explanations of how these algorithms can be used in the real life. So if you are interested in NLP, go and check it here https://spacy.io/usage"
      ],
      "metadata": {
        "id": "Y2fidB435nbS"
      }
    }
  ]
}